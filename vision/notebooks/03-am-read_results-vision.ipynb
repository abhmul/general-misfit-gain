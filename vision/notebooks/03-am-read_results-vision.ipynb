{
 "cells": [
  {
   "cell_type": "code",
   "execution_count": 1,
   "metadata": {},
   "outputs": [],
   "source": [
    "import json\n",
    "\n",
    "from src.params import RESULTS_DIR\n",
    "\n",
    "\n",
    "def load_results():\n",
    "    json_filenames = RESULTS_DIR.glob(\"*.json\")\n",
    "    results = []\n",
    "    for json_filename in json_filenames:\n",
    "        with open(json_filename, \"r\") as f:\n",
    "            results.append(json.load(f))\n",
    "    return results"
   ]
  },
  {
   "cell_type": "code",
   "execution_count": 2,
   "metadata": {},
   "outputs": [],
   "source": [
    "results = load_results()"
   ]
  },
  {
   "cell_type": "code",
   "execution_count": 38,
   "metadata": {},
   "outputs": [],
   "source": [
    "from src.params import DatasetName, ModelName\n",
    "\n",
    "filters = {\n",
    "    \"dataset\": DatasetName.CIFAR10.value,\n",
    "    \"strong_model\": ModelName.VITB8_DINO.value,\n",
    "    \"single_weak\":True,\n",
    "    \"debug\": False,\n",
    "    # \"version\": 4.5\n",
    "    \"version\": 4.2\n",
    "}\n",
    "# if filters[\"dataset\"] == DatasetName.IMAGENET.value:\n",
    "    # filters[\"version\"] = 4.1\n",
    "\n",
    "def filter_results(results_list, filter_dict):\n",
    "    filtered_results = [result for result in results_list if all(key in result[\"settings\"] and result[\"settings\"][key] == value for key, value in filter_dict.items())]\n",
    "    return filtered_results\n",
    "\n",
    "filtered_results = filter_results(results, filters)"
   ]
  },
  {
   "cell_type": "code",
   "execution_count": 39,
   "metadata": {},
   "outputs": [
    {
     "data": {
      "text/plain": [
       "11"
      ]
     },
     "execution_count": 39,
     "metadata": {},
     "output_type": "execute_result"
    }
   ],
   "source": [
    "len(filtered_results)"
   ]
  },
  {
   "cell_type": "code",
   "execution_count": 40,
   "metadata": {},
   "outputs": [
    {
     "name": "stdout",
     "output_type": "stream",
     "text": [
      "==========\n",
      "gt_to_st_xe__mean\n"
     ]
    },
    {
     "ename": "KeyError",
     "evalue": "'num_labels'",
     "output_type": "error",
     "traceback": [
      "\u001b[0;31m---------------------------------------------------------------------------\u001b[0m",
      "\u001b[0;31mKeyError\u001b[0m                                  Traceback (most recent call last)",
      "Cell \u001b[0;32mIn[40], line 19\u001b[0m\n\u001b[1;32m     16\u001b[0m         \u001b[38;5;28;01mfor\u001b[39;00m result \u001b[38;5;129;01min\u001b[39;00m \u001b[38;5;28msorted\u001b[39m(results_list, key\u001b[38;5;241m=\u001b[39m\u001b[38;5;28;01mlambda\u001b[39;00m x: \u001b[38;5;28mint\u001b[39m(maybe(x[\u001b[38;5;124m\"\u001b[39m\u001b[38;5;124msettings\u001b[39m\u001b[38;5;124m\"\u001b[39m][\u001b[38;5;124m\"\u001b[39m\u001b[38;5;124mnum_labels\u001b[39m\u001b[38;5;124m\"\u001b[39m], \u001b[38;5;241m1000\u001b[39m))):\n\u001b[1;32m     17\u001b[0m             \u001b[38;5;28mprint\u001b[39m(\u001b[38;5;124mf\u001b[39m\u001b[38;5;124m\"\u001b[39m\u001b[38;5;124mNum Labels: \u001b[39m\u001b[38;5;132;01m{\u001b[39;00mmaybe(result[\u001b[38;5;124m'\u001b[39m\u001b[38;5;124msettings\u001b[39m\u001b[38;5;124m'\u001b[39m][\u001b[38;5;124m'\u001b[39m\u001b[38;5;124mnum_labels\u001b[39m\u001b[38;5;124m'\u001b[39m],\u001b[38;5;250m \u001b[39m\u001b[38;5;241m1000\u001b[39m)\u001b[38;5;132;01m}\u001b[39;00m\u001b[38;5;124m: \u001b[39m\u001b[38;5;132;01m{\u001b[39;00mresult[\u001b[38;5;124m'\u001b[39m\u001b[38;5;124mresults\u001b[39m\u001b[38;5;124m'\u001b[39m][metric]\u001b[38;5;132;01m}\u001b[39;00m\u001b[38;5;124m\"\u001b[39m)\n\u001b[0;32m---> 19\u001b[0m \u001b[43mprint_metrics\u001b[49m\u001b[43m(\u001b[49m\u001b[43mmetrics\u001b[49m\u001b[43m,\u001b[49m\u001b[43m \u001b[49m\u001b[43mfiltered_results\u001b[49m\u001b[43m)\u001b[49m\n",
      "Cell \u001b[0;32mIn[40], line 16\u001b[0m, in \u001b[0;36mprint_metrics\u001b[0;34m(metric_list, results_list)\u001b[0m\n\u001b[1;32m     14\u001b[0m \u001b[38;5;28mprint\u001b[39m(\u001b[38;5;124m\"\u001b[39m\u001b[38;5;124m==========\u001b[39m\u001b[38;5;124m\"\u001b[39m)\n\u001b[1;32m     15\u001b[0m \u001b[38;5;28mprint\u001b[39m(metric)\n\u001b[0;32m---> 16\u001b[0m \u001b[38;5;28;01mfor\u001b[39;00m result \u001b[38;5;129;01min\u001b[39;00m \u001b[38;5;28;43msorted\u001b[39;49m\u001b[43m(\u001b[49m\u001b[43mresults_list\u001b[49m\u001b[43m,\u001b[49m\u001b[43m \u001b[49m\u001b[43mkey\u001b[49m\u001b[38;5;241;43m=\u001b[39;49m\u001b[38;5;28;43;01mlambda\u001b[39;49;00m\u001b[43m \u001b[49m\u001b[43mx\u001b[49m\u001b[43m:\u001b[49m\u001b[43m \u001b[49m\u001b[38;5;28;43mint\u001b[39;49m\u001b[43m(\u001b[49m\u001b[43mmaybe\u001b[49m\u001b[43m(\u001b[49m\u001b[43mx\u001b[49m\u001b[43m[\u001b[49m\u001b[38;5;124;43m\"\u001b[39;49m\u001b[38;5;124;43msettings\u001b[39;49m\u001b[38;5;124;43m\"\u001b[39;49m\u001b[43m]\u001b[49m\u001b[43m[\u001b[49m\u001b[38;5;124;43m\"\u001b[39;49m\u001b[38;5;124;43mnum_labels\u001b[39;49m\u001b[38;5;124;43m\"\u001b[39;49m\u001b[43m]\u001b[49m\u001b[43m,\u001b[49m\u001b[43m \u001b[49m\u001b[38;5;241;43m1000\u001b[39;49m\u001b[43m)\u001b[49m\u001b[43m)\u001b[49m\u001b[43m)\u001b[49m:\n\u001b[1;32m     17\u001b[0m     \u001b[38;5;28mprint\u001b[39m(\u001b[38;5;124mf\u001b[39m\u001b[38;5;124m\"\u001b[39m\u001b[38;5;124mNum Labels: \u001b[39m\u001b[38;5;132;01m{\u001b[39;00mmaybe(result[\u001b[38;5;124m'\u001b[39m\u001b[38;5;124msettings\u001b[39m\u001b[38;5;124m'\u001b[39m][\u001b[38;5;124m'\u001b[39m\u001b[38;5;124mnum_labels\u001b[39m\u001b[38;5;124m'\u001b[39m],\u001b[38;5;250m \u001b[39m\u001b[38;5;241m1000\u001b[39m)\u001b[38;5;132;01m}\u001b[39;00m\u001b[38;5;124m: \u001b[39m\u001b[38;5;132;01m{\u001b[39;00mresult[\u001b[38;5;124m'\u001b[39m\u001b[38;5;124mresults\u001b[39m\u001b[38;5;124m'\u001b[39m][metric]\u001b[38;5;132;01m}\u001b[39;00m\u001b[38;5;124m\"\u001b[39m)\n",
      "Cell \u001b[0;32mIn[40], line 16\u001b[0m, in \u001b[0;36mprint_metrics.<locals>.<lambda>\u001b[0;34m(x)\u001b[0m\n\u001b[1;32m     14\u001b[0m \u001b[38;5;28mprint\u001b[39m(\u001b[38;5;124m\"\u001b[39m\u001b[38;5;124m==========\u001b[39m\u001b[38;5;124m\"\u001b[39m)\n\u001b[1;32m     15\u001b[0m \u001b[38;5;28mprint\u001b[39m(metric)\n\u001b[0;32m---> 16\u001b[0m \u001b[38;5;28;01mfor\u001b[39;00m result \u001b[38;5;129;01min\u001b[39;00m \u001b[38;5;28msorted\u001b[39m(results_list, key\u001b[38;5;241m=\u001b[39m\u001b[38;5;28;01mlambda\u001b[39;00m x: \u001b[38;5;28mint\u001b[39m(maybe(\u001b[43mx\u001b[49m\u001b[43m[\u001b[49m\u001b[38;5;124;43m\"\u001b[39;49m\u001b[38;5;124;43msettings\u001b[39;49m\u001b[38;5;124;43m\"\u001b[39;49m\u001b[43m]\u001b[49m\u001b[43m[\u001b[49m\u001b[38;5;124;43m\"\u001b[39;49m\u001b[38;5;124;43mnum_labels\u001b[39;49m\u001b[38;5;124;43m\"\u001b[39;49m\u001b[43m]\u001b[49m, \u001b[38;5;241m1000\u001b[39m))):\n\u001b[1;32m     17\u001b[0m     \u001b[38;5;28mprint\u001b[39m(\u001b[38;5;124mf\u001b[39m\u001b[38;5;124m\"\u001b[39m\u001b[38;5;124mNum Labels: \u001b[39m\u001b[38;5;132;01m{\u001b[39;00mmaybe(result[\u001b[38;5;124m'\u001b[39m\u001b[38;5;124msettings\u001b[39m\u001b[38;5;124m'\u001b[39m][\u001b[38;5;124m'\u001b[39m\u001b[38;5;124mnum_labels\u001b[39m\u001b[38;5;124m'\u001b[39m],\u001b[38;5;250m \u001b[39m\u001b[38;5;241m1000\u001b[39m)\u001b[38;5;132;01m}\u001b[39;00m\u001b[38;5;124m: \u001b[39m\u001b[38;5;132;01m{\u001b[39;00mresult[\u001b[38;5;124m'\u001b[39m\u001b[38;5;124mresults\u001b[39m\u001b[38;5;124m'\u001b[39m][metric]\u001b[38;5;132;01m}\u001b[39;00m\u001b[38;5;124m\"\u001b[39m)\n",
      "\u001b[0;31mKeyError\u001b[0m: 'num_labels'"
     ]
    }
   ],
   "source": [
    "def maybe(x, default):\n",
    "    if x is None or x == \"None\":\n",
    "        return default\n",
    "    return x\n",
    "\n",
    "metrics = [\n",
    "    \"gt_to_st_xe__mean\",\n",
    "    \"misfit_xe_error__mean\",\n",
    "    \"stgt_misfit_xe_error__mean\"\n",
    "]\n",
    "\n",
    "def print_metrics(metric_list, results_list):\n",
    "    for metric in metric_list:\n",
    "        print(\"==========\")\n",
    "        print(metric)\n",
    "        for result in sorted(results_list, key=lambda x: int(maybe(x[\"settings\"][\"num_labels\"], 1000))):\n",
    "            print(f\"Num Labels: {maybe(result['settings']['num_labels'], 1000)}: {result['results'][metric]}\")\n",
    "\n",
    "print_metrics(metrics, filtered_results)"
   ]
  },
  {
   "cell_type": "code",
   "execution_count": 41,
   "metadata": {},
   "outputs": [
    {
     "name": "stdout",
     "output_type": "stream",
     "text": [
      "==========\n",
      "gt_to_st_xe__mean\n",
      "Num Heads: 1: 0.34802767634391785\n",
      "Num Heads: 2: 0.33735391497612\n",
      "Num Heads: 3: 0.3314712345600128\n",
      "Num Heads: 5: 0.3280852735042572\n",
      "Num Heads: 10: 0.33353111147880554\n",
      "Num Heads: 20: 0.3344651758670807\n",
      "Num Heads: 50: 0.33753758668899536\n",
      "Num Heads: 75: 0.3350053131580353\n",
      "Num Heads: 100: 0.3372291028499603\n",
      "Num Heads: 200: 0.33724161982536316\n",
      "Num Heads: 500: 0.34301161766052246\n",
      "==========\n",
      "misfit_xe_error__mean\n",
      "Num Heads: 1: -0.09769145399332047\n",
      "Num Heads: 2: -0.08562387526035309\n",
      "Num Heads: 3: -0.08123717457056046\n",
      "Num Heads: 5: -0.07395131886005402\n",
      "Num Heads: 10: -0.07452872395515442\n",
      "Num Heads: 20: -0.07508983463048935\n",
      "Num Heads: 50: -0.0745418593287468\n",
      "Num Heads: 75: -0.0723423957824707\n",
      "Num Heads: 100: -0.07313665747642517\n",
      "Num Heads: 200: -0.0719628855586052\n",
      "Num Heads: 500: -0.07781611382961273\n",
      "==========\n",
      "stgt_misfit_xe_error__mean\n",
      "Num Heads: 1: -0.055576521903276443\n",
      "Num Heads: 2: -0.043233472853899\n",
      "Num Heads: 3: -0.03765132650732994\n",
      "Num Heads: 5: -0.03055957891047001\n",
      "Num Heads: 10: -0.03234254568815231\n",
      "Num Heads: 20: -0.031560346484184265\n",
      "Num Heads: 50: -0.031714294105768204\n",
      "Num Heads: 75: -0.029376577585935593\n",
      "Num Heads: 100: -0.029846493154764175\n",
      "Num Heads: 200: -0.028444545343518257\n",
      "Num Heads: 500: -0.034020889550447464\n"
     ]
    }
   ],
   "source": [
    "metrics = [\n",
    "    \"gt_to_st_xe__mean\",\n",
    "    \"misfit_xe_error__mean\",\n",
    "    \"stgt_misfit_xe_error__mean\"\n",
    "]\n",
    "\n",
    "def print_metrics(metric_list, results_list):\n",
    "    for metric in metric_list:\n",
    "        print(\"==========\")\n",
    "        print(metric)\n",
    "        for result in sorted(results_list, key=lambda x: int(x[\"settings\"][\"num_heads\"])):\n",
    "            print(f\"Num Heads: {result['settings']['num_heads']}: {result['results'][metric]}\")\n",
    "\n",
    "print_metrics(metrics, filtered_results)"
   ]
  },
  {
   "cell_type": "code",
   "execution_count": 8,
   "metadata": {},
   "outputs": [
    {
     "name": "stdout",
     "output_type": "stream",
     "text": [
      "==========\n",
      "gt_to_wk_acc__mean\n",
      "0.5588001608848572\n",
      "0.5587999820709229\n",
      "0.5588001012802124\n",
      "0.5588000416755676\n",
      "0.5588001608848572\n",
      "0.5587999224662781\n",
      "0.5587999820709229\n",
      "0.5588003396987915\n",
      "0.5588003396987915\n",
      "0.5588003396987915\n",
      "==========\n",
      "gt_to_wk_xe__mean\n",
      "1.9258971214294434\n",
      "1.9258971214294434\n",
      "1.925897240638733\n",
      "1.9258968830108643\n",
      "1.9258973598480225\n",
      "1.9258971214294434\n",
      "1.9258967638015747\n",
      "1.925897240638733\n",
      "1.9258968830108643\n",
      "1.925897240638733\n",
      "==========\n",
      "gt_to_st_acc__mean\n",
      "0.6677002906799316\n",
      "0.6577003002166748\n",
      "0.6617000699043274\n",
      "0.6603003144264221\n",
      "0.6608001589775085\n",
      "0.666000247001648\n",
      "0.664400041103363\n",
      "0.6618001461029053\n",
      "0.6599002480506897\n",
      "0.6659001111984253\n",
      "==========\n",
      "gt_to_st_xe__mean\n",
      "1.3466585874557495\n",
      "1.3731857538223267\n",
      "1.3697400093078613\n",
      "1.3825262784957886\n",
      "1.3879469633102417\n",
      "1.3701244592666626\n",
      "1.3572076559066772\n",
      "1.3780063390731812\n",
      "1.3721835613250732\n",
      "1.3481605052947998\n",
      "==========\n",
      "st_to_wk__mean\n",
      "1.1931260824203491\n",
      "1.2114840745925903\n",
      "1.2047206163406372\n",
      "1.204551339149475\n",
      "1.2112374305725098\n",
      "1.212406873703003\n",
      "1.1987900733947754\n",
      "1.2093071937561035\n",
      "1.204853892326355\n",
      "1.2009834051132202\n",
      "==========\n",
      "stgt_to_st_xe__mean\n",
      "1.889798641204834\n",
      "1.89262056350708\n",
      "1.9036836624145508\n",
      "1.9222912788391113\n",
      "1.9117093086242676\n",
      "1.9026565551757812\n",
      "1.8348146677017212\n",
      "1.9180959463119507\n",
      "1.8566795587539673\n",
      "1.8540602922439575\n",
      "==========\n",
      "gain_xe__mean\n",
      "0.5792384743690491\n",
      "0.552711546421051\n",
      "0.5561572909355164\n",
      "0.5433708429336548\n",
      "0.5379500389099121\n",
      "0.5557728409767151\n",
      "0.5686891078948975\n",
      "0.5478914976119995\n",
      "0.553713858127594\n",
      "0.5777366757392883\n",
      "==========\n",
      "stgt_gain__mean\n",
      "0.739939272403717\n",
      "0.7236417531967163\n",
      "0.7496088743209839\n",
      "0.7154439687728882\n",
      "0.6873553991317749\n",
      "0.7237990498542786\n",
      "0.7407515048980713\n",
      "0.7096414566040039\n",
      "0.7118638753890991\n",
      "0.7565896511077881\n"
     ]
    }
   ],
   "source": [
    "# metrics = [\n",
    "#     \"gt_to_wk_acc__mean\",\n",
    "#     \"gt_to_wk_xe__mean\",\n",
    "#     \"gt_to_st_acc__mean\",\n",
    "#     \"gt_to_st_xe__mean\",\n",
    "#     \"st_to_wk__mean\",\n",
    "#     \"stgt_to_st_xe__mean\",\n",
    "#     \"gain_xe__mean\",\n",
    "#     \"stgt_gain__mean\"\n",
    "# ]\n",
    "\n",
    "metrics = [\n",
    "    \"gt_to_wk_acc__mean\",\n",
    "    \"gt_to_wk_xe__mean\",\n",
    "    \"gt_to_st_acc__mean\",\n",
    "    \"gt_to_st_xe__mean\",\n",
    "    \"st_to_wk__mean\",\n",
    "    \"stgt_to_st_xe__mean\",\n",
    "    \"gain_xe__mean\",\n",
    "    \"stgt_gain__mean\"\n",
    "]\n",
    "\n",
    "\n",
    "def print_metrics(metric_list, results_list):\n",
    "    for metric in metric_list:\n",
    "        print(\"==========\")\n",
    "        print(metric)\n",
    "        for result in results_list:\n",
    "            print(result[\"results\"][metric])\n",
    "\n",
    "print_metrics(metrics, filtered_results)"
   ]
  },
  {
   "cell_type": "code",
   "execution_count": null,
   "metadata": {},
   "outputs": [],
   "source": []
  }
 ],
 "metadata": {
  "kernelspec": {
   "display_name": "pagi",
   "language": "python",
   "name": "python3"
  },
  "language_info": {
   "codemirror_mode": {
    "name": "ipython",
    "version": 3
   },
   "file_extension": ".py",
   "mimetype": "text/x-python",
   "name": "python",
   "nbconvert_exporter": "python",
   "pygments_lexer": "ipython3",
   "version": "3.10.15"
  }
 },
 "nbformat": 4,
 "nbformat_minor": 2
}
