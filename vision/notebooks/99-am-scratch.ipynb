{
 "cells": [
  {
   "cell_type": "code",
   "execution_count": 1,
   "metadata": {},
   "outputs": [],
   "source": [
    "import torch\n",
    "import torch.nn.functional as F\n",
    "import torchvision.transforms as T\n",
    "\n",
    "from src.params import DatasetName, CPU, CPU_GENERATOR\n",
    "from src.datasets import load_dataset\n",
    "\n",
    "\n",
    "dataset_name = DatasetName.MNIST\n",
    "\n",
    "transform = T.Compose([T.ToTensor(), T.Lambda(lambda x: torch.flatten(x)), T.Lambda(lambda x: (x - x.mean()) / x.std()),])\n",
    "num_classes = 10\n",
    "target_transform = lambda x: F.one_hot(torch.tensor(x), num_classes=10).to(torch.float32)\n",
    "\n",
    "train_dataset = load_dataset(dataset_name, split=\"train\", transform=transform, target_transform=target_transform)\n",
    "\n"
   ]
  },
  {
   "cell_type": "code",
   "execution_count": 5,
   "metadata": {},
   "outputs": [
    {
     "name": "stdout",
     "output_type": "stream",
     "text": [
      "2\n",
      "2\n",
      "2\n",
      "2\n",
      "2\n",
      "2\n",
      "2\n",
      "2\n",
      "2\n",
      "2\n"
     ]
    }
   ],
   "source": [
    "inds = torch.randint(\n",
    "    len(train_dataset),\n",
    "    size=(10,),\n",
    "    device=CPU,\n",
    "    generator=CPU_GENERATOR,\n",
    ")\n",
    "\n",
    "for i in range(10):\n",
    "    print(len(train_dataset[inds[i]]))"
   ]
  },
  {
   "cell_type": "code",
   "execution_count": 1,
   "metadata": {},
   "outputs": [
    {
     "name": "stdout",
     "output_type": "stream",
     "text": [
      "tensor([[0.1000, 0.2000, 0.3000, 0.4000]])\n",
      "tensor([[7.4506e-09, 1.0000e-01, 2.0000e-01, 3.0000e-01, 4.0000e-01]])\n",
      "tensor([[1.0000, 1.0000, 1.0000, 1.0000]])\n"
     ]
    }
   ],
   "source": [
    "import torch\n",
    "from src.torch_utils import project_to_simplex\n",
    "\n",
    "a = torch.tensor([[0.1, 0.2, 0.3, 0.4]])\n",
    "print(project_to_simplex(a, dim=1))\n",
    "\n",
    "b = torch.tensor([[0.1, 0.2, 0.3, 0.4, 0.5]])\n",
    "print(project_to_simplex(b, dim=1))\n",
    "\n",
    "c = -a\n",
    "print(project_to_simplex(c, dim=0))"
   ]
  },
  {
   "cell_type": "code",
   "execution_count": 15,
   "metadata": {},
   "outputs": [
    {
     "name": "stdout",
     "output_type": "stream",
     "text": [
      "tensor([[[ 1.1992,  0.4377],\n",
      "         [ 0.7124,  1.2945],\n",
      "         [-0.5586,  1.0156],\n",
      "         [-2.3449,  0.5986]],\n",
      "\n",
      "        [[ 0.7308, -1.5321],\n",
      "         [ 0.6309,  0.2212],\n",
      "         [ 0.6564, -0.4714],\n",
      "         [-1.4044, -0.7132]],\n",
      "\n",
      "        [[ 0.7181, -1.9816],\n",
      "         [ 0.8546,  0.0317],\n",
      "         [-0.2629, -2.2367],\n",
      "         [-0.0189,  0.2391]]])\n",
      "torch.Size([3, 2])\n",
      "tensor([[0, 1],\n",
      "        [0, 1],\n",
      "        [1, 3]])\n",
      "torch.Size([3, 1, 2])\n",
      "tensor([[[1.1992, 1.2945]],\n",
      "\n",
      "        [[0.7308, 0.2212]],\n",
      "\n",
      "        [[0.8546, 0.2391]]])\n"
     ]
    }
   ],
   "source": [
    "import torch\n",
    "\n",
    "a = torch.randn((3,4,2), dtype=torch.float32)\n",
    "print(a)\n",
    "\n",
    "select_values = torch.argmax(a, dim=1)\n",
    "print(select_values.shape)\n",
    "print(select_values)\n",
    "\n",
    "# b = a[torch.arange(a.shape[0])[:, None], select_values, torch.arange(a.shape[2])[None, :]]\n",
    "# print(b.shape)\n",
    "# print(b)\n",
    "b = torch.gather(a, 1, select_values[:, None, :])\n",
    "print(b.shape)\n",
    "print(b)"
   ]
  },
  {
   "cell_type": "code",
   "execution_count": 1,
   "metadata": {},
   "outputs": [
    {
     "name": "stdout",
     "output_type": "stream",
     "text": [
      "tensor([[ 1.4174,  0.9557, -0.1949, -0.3789],\n",
      "        [ 0.2731, -1.1324,  0.5466,  1.3071],\n",
      "        [-1.3661,  1.5791,  0.6180,  1.6229]])\n",
      "tensor([[1., 0., 0., 0.],\n",
      "        [0., 0., 0., 1.],\n",
      "        [0., 0., 0., 1.]])\n"
     ]
    }
   ],
   "source": [
    "import torch\n",
    "from src.torch_utils import hardmax\n",
    "\n",
    "a = torch.randn((3,4), dtype=torch.float32)\n",
    "print(a)\n",
    "\n",
    "print(hardmax(a, dim=1))"
   ]
  },
  {
   "cell_type": "code",
   "execution_count": 6,
   "metadata": {},
   "outputs": [
    {
     "name": "stdout",
     "output_type": "stream",
     "text": [
      "tensor([[-0.2152, -1.2088, -0.1387, -3.4092],\n",
      "        [-0.7293, -0.9411, -0.4702,  1.9118],\n",
      "        [-0.6716, -0.4142,  1.3076, -2.4740]])\n",
      "tensor([[0.4015, 0.1486, 0.4334, 0.0165],\n",
      "        [0.0584, 0.0472, 0.0756, 0.8188],\n",
      "        [0.1031, 0.1334, 0.7464, 0.0170]])\n",
      "tensor([0.4015, 0.1486, 0.4334, 0.0165])\n"
     ]
    }
   ],
   "source": [
    "import torch\n",
    "\n",
    "a = torch.randn((3,4), dtype=torch.float32)\n",
    "print(a)\n",
    "\n",
    "print(torch.softmax(a, dim=1))\n",
    "print(torch.softmax(a[0], dim=0))"
   ]
  },
  {
   "cell_type": "code",
   "execution_count": 2,
   "metadata": {},
   "outputs": [
    {
     "name": "stdout",
     "output_type": "stream",
     "text": [
      "tensor([[-1.],\n",
      "        [ 0.],\n",
      "        [ 1.]])\n"
     ]
    }
   ],
   "source": [
    "import torch\n",
    "\n",
    "OUT_DIM = 1\n",
    "test_points = []\n",
    "for dim in range(OUT_DIM):\n",
    "    test_points.append(torch.linspace(-1, 1, 3))\n",
    "test_points = torch.stack(torch.meshgrid(*test_points), dim=-1).reshape(-1, OUT_DIM)\n",
    "print(test_points)"
   ]
  },
  {
   "cell_type": "code",
   "execution_count": 1,
   "metadata": {},
   "outputs": [
    {
     "data": {
      "text/plain": [
       "True"
      ]
     },
     "execution_count": 1,
     "metadata": {},
     "output_type": "execute_result"
    }
   ],
   "source": [
    "import torch\n",
    "\n",
    "dev = torch.device(\"cpu\")\n",
    "type(dev)\n",
    "torch.cuda.is_available()"
   ]
  },
  {
   "cell_type": "code",
   "execution_count": 4,
   "metadata": {},
   "outputs": [
    {
     "data": {
      "text/plain": [
       "tensor(-0.7976, grad_fn=<SelectBackward0>)"
      ]
     },
     "execution_count": 4,
     "metadata": {},
     "output_type": "execute_result"
    }
   ],
   "source": [
    "import torch\n",
    "\n",
    "torch.randn(1, requires_grad=True)[0]"
   ]
  },
  {
   "cell_type": "code",
   "execution_count": 3,
   "metadata": {},
   "outputs": [
    {
     "name": "stdout",
     "output_type": "stream",
     "text": [
      "tensor([[-0.2363, -1.3349],\n",
      "        [-0.4418, -0.4420],\n",
      "        [-1.5690,  0.7368],\n",
      "        [ 2.5167,  0.5386],\n",
      "        [-0.6326,  0.3073]])\n"
     ]
    },
    {
     "data": {
      "text/plain": [
       "tensor([[[-0.2363,  0.0000],\n",
       "         [ 0.0000, -1.3349]],\n",
       "\n",
       "        [[-0.4418,  0.0000],\n",
       "         [ 0.0000, -0.4420]],\n",
       "\n",
       "        [[-1.5690,  0.0000],\n",
       "         [ 0.0000,  0.7368]],\n",
       "\n",
       "        [[ 2.5167,  0.0000],\n",
       "         [ 0.0000,  0.5386]],\n",
       "\n",
       "        [[-0.6326,  0.0000],\n",
       "         [ 0.0000,  0.3073]]])"
      ]
     },
     "execution_count": 3,
     "metadata": {},
     "output_type": "execute_result"
    }
   ],
   "source": [
    "import torch\n",
    "\n",
    "a = torch.randn(5, 2)\n",
    "print(a)\n",
    "torch.diag_embed(a)"
   ]
  },
  {
   "cell_type": "code",
   "execution_count": 10,
   "metadata": {},
   "outputs": [
    {
     "data": {
      "text/plain": [
       "device(type='cpu')"
      ]
     },
     "execution_count": 10,
     "metadata": {},
     "output_type": "execute_result"
    }
   ],
   "source": [
    "from src.models import MLP\n",
    "\n",
    "model = MLP(10, 10, 5, 2)\n",
    "next(model.parameters()).device"
   ]
  },
  {
   "cell_type": "code",
   "execution_count": 1,
   "metadata": {},
   "outputs": [
    {
     "name": "stderr",
     "output_type": "stream",
     "text": [
      "/home/abhmul/miniforge3/envs/pagi/lib/python3.10/site-packages/torchvision/models/_utils.py:208: UserWarning: The parameter 'pretrained' is deprecated since 0.13 and may be removed in the future, please use 'weights' instead.\n",
      "  warnings.warn(\n",
      "/home/abhmul/miniforge3/envs/pagi/lib/python3.10/site-packages/torchvision/models/_utils.py:223: UserWarning: Arguments other than a weight enum or `None` for 'weights' are deprecated since 0.13 and may be removed in the future. The current behavior is equivalent to passing `weights=AlexNet_Weights.IMAGENET1K_V1`. You can also use `weights=AlexNet_Weights.DEFAULT` to get the most up-to-date weights.\n",
      "  warnings.warn(msg)\n"
     ]
    }
   ],
   "source": [
    "import torch\n",
    "\n",
    "from src.models import load_model\n",
    "from src.params import ModelName, DeviceType\n",
    "\n",
    "import os\n",
    "\n",
    "os.environ[\"TORCH_HOME\"] = \"../../pythagoras-agi/.cache\"\n",
    "\n",
    "model = load_model(ModelName.ALEXNET, device=torch.device(DeviceType.CPU.value))"
   ]
  },
  {
   "cell_type": "code",
   "execution_count": 2,
   "metadata": {},
   "outputs": [
    {
     "name": "stdout",
     "output_type": "stream",
     "text": [
      "Files already downloaded and verified\n",
      "===========\n",
      "<class 'torch.Tensor'>\n",
      "torch.Size([32, 3, 224, 224])\n",
      "tensor([[0.0000, 0.0000, 0.0000,  ..., 0.8587, 1.7643, 0.8499],\n",
      "        [0.0000, 0.0000, 0.0000,  ..., 0.0000, 0.0000, 0.0000],\n",
      "        [0.0000, 0.0000, 0.0000,  ..., 0.0000, 0.0000, 0.0000],\n",
      "        ...,\n",
      "        [2.4350, 3.0836, 2.7548,  ..., 0.0000, 0.0000, 0.0000],\n",
      "        [0.0000, 0.0000, 0.0000,  ..., 0.0000, 0.0000, 0.0000],\n",
      "        [0.0000, 0.0000, 0.0000,  ..., 0.0000, 0.0000, 0.0000]],\n",
      "       grad_fn=<ViewBackward0>)\n",
      "torch.Size([32, 9216])\n",
      "<class 'torch.Tensor'>\n",
      "torch.Size([32])\n",
      "===========\n",
      "<class 'torch.Tensor'>\n",
      "torch.Size([32, 3, 224, 224])\n",
      "tensor([[0.0000, 0.4306, 0.5704,  ..., 0.9128, 0.9128, 0.0000],\n",
      "        [1.2582, 1.2582, 0.5419,  ..., 0.0000, 0.0000, 0.0000],\n",
      "        [0.0000, 0.7013, 2.0164,  ..., 0.0000, 0.0000, 1.1655],\n",
      "        ...,\n",
      "        [0.0000, 0.0000, 0.0000,  ..., 0.0000, 0.0000, 0.0000],\n",
      "        [0.0000, 0.4083, 0.0236,  ..., 0.0000, 0.0000, 0.0000],\n",
      "        [0.0000, 0.0000, 0.0000,  ..., 0.0000, 0.0000, 0.0000]],\n",
      "       grad_fn=<ViewBackward0>)\n",
      "torch.Size([32, 9216])\n",
      "<class 'torch.Tensor'>\n",
      "torch.Size([32])\n",
      "===========\n",
      "<class 'torch.Tensor'>\n",
      "torch.Size([32, 3, 224, 224])\n",
      "tensor([[0.0000, 0.0000, 0.0000,  ..., 0.0000, 0.0000, 0.0000],\n",
      "        [0.9100, 0.0000, 0.0000,  ..., 0.0000, 0.0000, 0.0000],\n",
      "        [0.0000, 0.0000, 0.0000,  ..., 0.0000, 0.0000, 0.0000],\n",
      "        ...,\n",
      "        [0.0000, 0.0000, 0.0000,  ..., 0.0000, 0.0000, 0.0000],\n",
      "        [0.0000, 5.8249, 7.8025,  ..., 0.0000, 0.0000, 0.0000],\n",
      "        [0.9199, 0.4804, 0.0000,  ..., 0.0000, 0.0000, 0.0000]],\n",
      "       grad_fn=<ViewBackward0>)\n",
      "torch.Size([32, 9216])\n",
      "<class 'torch.Tensor'>\n",
      "torch.Size([32])\n",
      "===========\n",
      "<class 'torch.Tensor'>\n",
      "torch.Size([32, 3, 224, 224])\n",
      "tensor([[6.2279, 6.2279, 5.0740,  ..., 0.0000, 0.0000, 0.0000],\n",
      "        [0.0000, 0.0000, 0.0000,  ..., 0.0000, 0.0000, 0.0000],\n",
      "        [0.0000, 0.0000, 0.0000,  ..., 0.0000, 0.0000, 0.0000],\n",
      "        ...,\n",
      "        [0.0000, 0.0000, 0.0000,  ..., 0.0000, 0.6700, 0.5418],\n",
      "        [0.0000, 0.3676, 0.1697,  ..., 0.0000, 0.0000, 0.0000],\n",
      "        [0.0000, 0.0000, 0.0000,  ..., 0.0000, 0.0000, 0.0000]],\n",
      "       grad_fn=<ViewBackward0>)\n",
      "torch.Size([32, 9216])\n",
      "<class 'torch.Tensor'>\n",
      "torch.Size([32])\n",
      "===========\n",
      "<class 'torch.Tensor'>\n",
      "torch.Size([32, 3, 224, 224])\n",
      "tensor([[0.0000, 0.0000, 0.0000,  ..., 0.0000, 0.0000, 0.0000],\n",
      "        [0.0000, 0.0000, 0.0000,  ..., 0.0000, 0.0000, 0.0000],\n",
      "        [0.0000, 0.0000, 0.0000,  ..., 0.0000, 0.0000, 0.0000],\n",
      "        ...,\n",
      "        [0.0000, 0.0000, 0.0000,  ..., 1.9935, 2.1921, 1.3135],\n",
      "        [0.0000, 0.0000, 0.0000,  ..., 0.6863, 0.0000, 0.0000],\n",
      "        [0.0000, 0.0329, 0.0000,  ..., 0.0000, 0.0000, 0.0000]],\n",
      "       grad_fn=<ViewBackward0>)\n",
      "torch.Size([32, 9216])\n",
      "<class 'torch.Tensor'>\n",
      "torch.Size([32])\n"
     ]
    }
   ],
   "source": [
    "import torch.utils.data as data\n",
    "\n",
    "from src.datasets import load_dataset\n",
    "from src.params import DatasetName\n",
    "\n",
    "dataset = load_dataset(DatasetName.CIFAR10)\n",
    "\n",
    "data_loader = data.DataLoader(dataset, batch_size=32, shuffle=True)\n",
    "\n",
    "for start, (x,y) in zip(range(5), data_loader):\n",
    "    print(\"===========\")\n",
    "    print(type(x))\n",
    "    print(x.shape)\n",
    "    out = model(x)\n",
    "    print(out)\n",
    "    print(out.shape)\n",
    "    print(type(y))\n",
    "    print(y.shape)\n",
    "\n"
   ]
  },
  {
   "cell_type": "code",
   "execution_count": 1,
   "metadata": {},
   "outputs": [],
   "source": [
    "from src.params import ModelName, DatasetName\n",
    "from src.datasets import load_embeddings\n",
    "\n",
    "alex = load_embeddings(DatasetName.CIFAR10, ModelName.ALEXNET)\n",
    "alex_y_tr = alex.y_train\n",
    "alex_y_te = alex.y_test\n",
    "alex = None\n",
    "\n",
    "resnet = load_embeddings(DatasetName.CIFAR10, ModelName.RESNET50_DINO)\n",
    "resnet_y_tr = resnet.y_train\n",
    "resnet_y_te = resnet.y_test\n",
    "resnet = None\n",
    "\n",
    "vitb = load_embeddings(DatasetName.CIFAR10, ModelName.VITB8_DINO)\n",
    "vitb_y_tr = vitb.y_train\n",
    "vitb_y_te = vitb.y_test\n",
    "vitb = None\n",
    "\n"
   ]
  },
  {
   "cell_type": "code",
   "execution_count": 2,
   "metadata": {},
   "outputs": [],
   "source": [
    "assert (alex_y_tr == resnet_y_tr).all()\n",
    "assert (alex_y_tr == vitb_y_tr).all()\n",
    "assert (alex_y_te == resnet_y_te).all()\n",
    "assert (alex_y_te == vitb_y_te).all()\n"
   ]
  },
  {
   "cell_type": "code",
   "execution_count": 1,
   "metadata": {},
   "outputs": [
    {
     "name": "stderr",
     "output_type": "stream",
     "text": [
      "/home/abhmul/miniforge3/envs/pagi/lib/python3.10/site-packages/torchvision/models/_utils.py:208: UserWarning: The parameter 'pretrained' is deprecated since 0.13 and may be removed in the future, please use 'weights' instead.\n",
      "  warnings.warn(\n",
      "/home/abhmul/miniforge3/envs/pagi/lib/python3.10/site-packages/torchvision/models/_utils.py:223: UserWarning: Arguments other than a weight enum or `None` for 'weights' are deprecated since 0.13 and may be removed in the future. The current behavior is equivalent to passing `weights=AlexNet_Weights.IMAGENET1K_V1`. You can also use `weights=AlexNet_Weights.DEFAULT` to get the most up-to-date weights.\n",
      "  warnings.warn(msg)\n"
     ]
    },
    {
     "data": {
      "text/plain": [
       "Sequential(\n",
       "  (0): Dropout(p=0.5, inplace=False)\n",
       "  (1): Linear(in_features=9216, out_features=4096, bias=True)\n",
       "  (2): ReLU(inplace=True)\n",
       "  (3): Dropout(p=0.5, inplace=False)\n",
       "  (4): Linear(in_features=4096, out_features=4096, bias=True)\n",
       "  (5): ReLU(inplace=True)\n",
       "  (6): Linear(in_features=4096, out_features=1000, bias=True)\n",
       ")"
      ]
     },
     "execution_count": 1,
     "metadata": {},
     "output_type": "execute_result"
    }
   ],
   "source": [
    "from src.models import get_alexnet_classifier, alexnet\n",
    "\n",
    "alex = alexnet()\n",
    "alex_classifier = get_alexnet_classifier()\n",
    "\n",
    "alex_classifier"
   ]
  }
 ],
 "metadata": {
  "kernelspec": {
   "display_name": "pagi",
   "language": "python",
   "name": "python3"
  },
  "language_info": {
   "codemirror_mode": {
    "name": "ipython",
    "version": 3
   },
   "file_extension": ".py",
   "mimetype": "text/x-python",
   "name": "python",
   "nbconvert_exporter": "python",
   "pygments_lexer": "ipython3",
   "version": "3.10.16"
  }
 },
 "nbformat": 4,
 "nbformat_minor": 2
}
