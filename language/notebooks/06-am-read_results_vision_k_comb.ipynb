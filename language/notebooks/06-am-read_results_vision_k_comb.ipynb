{
 "cells": [
  {
   "cell_type": "code",
   "execution_count": 1,
   "metadata": {},
   "outputs": [],
   "source": [
    "import json\n",
    "\n",
    "from src.params import RESULTS_DIR\n",
    "\n",
    "\n",
    "def load_results():\n",
    "    json_filenames = RESULTS_DIR.glob(\"*.json\")\n",
    "    results = []\n",
    "    for json_filename in json_filenames:\n",
    "        with open(json_filename, \"r\") as f:\n",
    "            results.append(json.load(f))\n",
    "    return results"
   ]
  },
  {
   "cell_type": "code",
   "execution_count": 2,
   "metadata": {},
   "outputs": [],
   "source": [
    "results = load_results()"
   ]
  },
  {
   "cell_type": "code",
   "execution_count": 6,
   "metadata": {},
   "outputs": [],
   "source": [
    "from src.params import DatasetName, ModelName\n",
    "\n",
    "filters = {\n",
    "    \"dataset\": DatasetName.CIFAR10.value,\n",
    "    \"strong_model\": ModelName.VITB8_DINO.value,\n",
    "    \"single_weak\":True,\n",
    "    \"version\": 4.1\n",
    "}\n",
    "# if filters[\"dataset\"] == DatasetName.IMAGENET.value:\n",
    "    # filters[\"version\"] = 3.0\n",
    "\n",
    "def filter_results(results_list, filter_dict):\n",
    "    filtered_results = [result for result in results_list if all(key in result[\"settings\"] and result[\"settings\"][key] == value for key, value in filter_dict.items())]\n",
    "    return filtered_results\n",
    "\n",
    "filtered_results = filter_results(results, filters)"
   ]
  },
  {
   "cell_type": "code",
   "execution_count": 8,
   "metadata": {},
   "outputs": [
    {
     "data": {
      "text/plain": [
       "['20', '10', '50', '3', '1', '2', '500', '200', '75', '5', '100']"
      ]
     },
     "execution_count": 8,
     "metadata": {},
     "output_type": "execute_result"
    }
   ],
   "source": [
    "[res[\"settings\"][\"num_heads\"] for res in filtered_results]"
   ]
  },
  {
   "cell_type": "code",
   "execution_count": 10,
   "metadata": {},
   "outputs": [
    {
     "name": "stdout",
     "output_type": "stream",
     "text": [
      "==========\n",
      "gt_to_wk_acc__mean\n",
      "0.7931000590324402\n",
      "0.7931000590324402\n",
      "0.7931000590324402\n",
      "0.7931000590324402\n",
      "0.7931000590324402\n",
      "0.7931000590324402\n",
      "0.7931000590324402\n",
      "0.7931000590324402\n",
      "0.7931000590324402\n",
      "0.7931000590324402\n",
      "0.7931000590324402\n",
      "==========\n",
      "gt_to_wk_xe__mean\n",
      "0.5902765393257141\n",
      "0.5902765393257141\n",
      "0.5902765393257141\n",
      "0.5902765393257141\n",
      "0.5902765393257141\n",
      "0.5902765393257141\n",
      "0.5902765393257141\n",
      "0.5902765393257141\n",
      "0.5902765393257141\n",
      "0.5902765393257141\n",
      "0.5902765393257141\n",
      "==========\n",
      "gt_to_st_acc__mean\n",
      "0.8854002356529236\n",
      "0.8886002898216248\n",
      "0.8866001963615417\n",
      "0.8805002570152283\n",
      "0.8660002946853638\n",
      "0.8749003410339355\n",
      "0.8893002867698669\n",
      "0.8885002732276917\n",
      "0.8865000009536743\n",
      "0.8876002430915833\n",
      "0.8885001540184021\n",
      "==========\n",
      "gt_to_st_xe__mean\n",
      "0.3598453402519226\n",
      "0.3480026125907898\n",
      "0.35713452100753784\n",
      "0.357647180557251\n",
      "0.378715842962265\n",
      "0.3612455427646637\n",
      "0.356451153755188\n",
      "0.3566852807998657\n",
      "0.3596664071083069\n",
      "0.3507659435272217\n",
      "0.3556648790836334\n",
      "==========\n",
      "st_to_wk__mean\n",
      "0.31140658259391785\n",
      "0.3095336854457855\n",
      "0.3062351942062378\n",
      "0.31755051016807556\n",
      "0.3212816119194031\n",
      "0.31973305344581604\n",
      "0.3031337559223175\n",
      "0.3036554753780365\n",
      "0.30519193410873413\n",
      "0.3144666850566864\n",
      "0.3051286041736603\n",
      "==========\n",
      "stgt_to_st_xe__mean\n",
      "0.37770313024520874\n",
      "0.35235652327537537\n",
      "0.36203324794769287\n",
      "0.3652033805847168\n",
      "0.39859551191329956\n",
      "0.37349045276641846\n",
      "0.3780753016471863\n",
      "0.37873512506484985\n",
      "0.36438465118408203\n",
      "0.3587381839752197\n",
      "0.37258589267730713\n",
      "==========\n",
      "gain_xe__mean\n",
      "0.23043128848075867\n",
      "0.24227391183376312\n",
      "0.23314210772514343\n",
      "0.23262962698936462\n",
      "0.2115609049797058\n",
      "0.22903116047382355\n",
      "0.23382551968097687\n",
      "0.23359131813049316\n",
      "0.23061038553714752\n",
      "0.23951081931591034\n",
      "0.2346118539571762\n",
      "==========\n",
      "stgt_gain__meanmisfit_xe_error__mean\n"
     ]
    },
    {
     "ename": "KeyError",
     "evalue": "'stgt_gain__meanmisfit_xe_error__mean'",
     "output_type": "error",
     "traceback": [
      "\u001b[0;31m---------------------------------------------------------------------------\u001b[0m",
      "\u001b[0;31mKeyError\u001b[0m                                  Traceback (most recent call last)",
      "Cell \u001b[0;32mIn[10], line 21\u001b[0m\n\u001b[1;32m     18\u001b[0m         \u001b[38;5;28;01mfor\u001b[39;00m result \u001b[38;5;129;01min\u001b[39;00m results_list:\n\u001b[1;32m     19\u001b[0m             \u001b[38;5;28mprint\u001b[39m(result[\u001b[38;5;124m\"\u001b[39m\u001b[38;5;124mresults\u001b[39m\u001b[38;5;124m\"\u001b[39m][metric])\n\u001b[0;32m---> 21\u001b[0m \u001b[43mprint_metrics\u001b[49m\u001b[43m(\u001b[49m\u001b[43mmetrics\u001b[49m\u001b[43m,\u001b[49m\u001b[43m \u001b[49m\u001b[43mfiltered_results\u001b[49m\u001b[43m)\u001b[49m\n",
      "Cell \u001b[0;32mIn[10], line 19\u001b[0m, in \u001b[0;36mprint_metrics\u001b[0;34m(metric_list, results_list)\u001b[0m\n\u001b[1;32m     17\u001b[0m \u001b[38;5;28mprint\u001b[39m(metric)\n\u001b[1;32m     18\u001b[0m \u001b[38;5;28;01mfor\u001b[39;00m result \u001b[38;5;129;01min\u001b[39;00m results_list:\n\u001b[0;32m---> 19\u001b[0m     \u001b[38;5;28mprint\u001b[39m(\u001b[43mresult\u001b[49m\u001b[43m[\u001b[49m\u001b[38;5;124;43m\"\u001b[39;49m\u001b[38;5;124;43mresults\u001b[39;49m\u001b[38;5;124;43m\"\u001b[39;49m\u001b[43m]\u001b[49m\u001b[43m[\u001b[49m\u001b[43mmetric\u001b[49m\u001b[43m]\u001b[49m)\n",
      "\u001b[0;31mKeyError\u001b[0m: 'stgt_gain__meanmisfit_xe_error__mean'"
     ]
    }
   ],
   "source": [
    "metrics = [\n",
    "    \"gt_to_wk_acc__mean\",\n",
    "    \"gt_to_wk_xe__mean\",\n",
    "    \"gt_to_st_acc__mean\",\n",
    "    \"gt_to_st_xe__mean\",\n",
    "    \"st_to_wk__mean\",\n",
    "    \"stgt_to_st_xe__mean\",\n",
    "    \"gain_xe__mean\",\n",
    "    \"stgt_gain__mean\"\n",
    "    \"misfit_xe_error__mean\",\n",
    "    \"stgt_misfit_xe_error__mean\"\n",
    "]\n",
    "\n",
    "def print_metrics(metric_list, results_list):\n",
    "    for metric in metric_list:\n",
    "        print(\"==========\")\n",
    "        print(metric)\n",
    "        for result in results_list:\n",
    "            print(result[\"results\"][metric])\n",
    "\n",
    "print_metrics(metrics, filtered_results)"
   ]
  },
  {
   "cell_type": "code",
   "execution_count": null,
   "metadata": {},
   "outputs": [],
   "source": []
  }
 ],
 "metadata": {
  "kernelspec": {
   "display_name": "pagi",
   "language": "python",
   "name": "python3"
  },
  "language_info": {
   "codemirror_mode": {
    "name": "ipython",
    "version": 3
   },
   "file_extension": ".py",
   "mimetype": "text/x-python",
   "name": "python",
   "nbconvert_exporter": "python",
   "pygments_lexer": "ipython3",
   "version": "3.10.15"
  }
 },
 "nbformat": 4,
 "nbformat_minor": 2
}
